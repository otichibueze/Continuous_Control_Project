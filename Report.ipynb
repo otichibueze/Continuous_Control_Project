{
 "cells": [
  {
   "cell_type": "code",
   "execution_count": 1,
   "metadata": {},
   "outputs": [
    {
     "name": "stdout",
     "output_type": "stream",
     "text": [
      "\u001b[31mtensorflow 1.7.1 has requirement numpy>=1.13.3, but you'll have numpy 1.12.1 which is incompatible.\u001b[0m\r\n",
      "\u001b[31mipython 6.5.0 has requirement prompt-toolkit<2.0.0,>=1.0.15, but you'll have prompt-toolkit 3.0.8 which is incompatible.\u001b[0m\r\n"
     ]
    }
   ],
   "source": [
    "!pip -q install ./python"
   ]
  },
  {
   "cell_type": "markdown",
   "metadata": {},
   "source": [
    "## Continuous Control\n",
    "\n",
    "### 1. Start the Environment\n",
    "We begin by importing the necessary packages. If the code cell below returns an error, please revisit the project instructions to double-check that you have installed Unity [ML-Agents](https://github.com/Unity-Technologies/ml-agents/blob/master/docs/Installation.md) and [NumPy.](http://www.numpy.org/)"
   ]
  },
  {
   "cell_type": "code",
   "execution_count": 2,
   "metadata": {},
   "outputs": [],
   "source": [
    "import gym\n",
    "import random\n",
    "import torch\n",
    "import numpy as np\n",
    "from collections import deque\n",
    "import matplotlib.pyplot as plt\n",
    "%matplotlib inline"
   ]
  },
  {
   "cell_type": "markdown",
   "metadata": {},
   "source": [
    "### 2. Instantiate the Environment and Agent\n",
    "Initialize the environment for single agent."
   ]
  },
  {
   "cell_type": "code",
   "execution_count": 3,
   "metadata": {},
   "outputs": [
    {
     "name": "stderr",
     "output_type": "stream",
     "text": [
      "INFO:unityagents:\n",
      "'Academy' started successfully!\n",
      "Unity Academy name: Academy\n",
      "        Number of Brains: 1\n",
      "        Number of External Brains : 1\n",
      "        Lesson number : 0\n",
      "        Reset Parameters :\n",
      "\t\tgoal_speed -> 1.0\n",
      "\t\tgoal_size -> 5.0\n",
      "Unity brain name: ReacherBrain\n",
      "        Number of Visual Observations (per agent): 0\n",
      "        Vector Observation space type: continuous\n",
      "        Vector Observation space size (per agent): 33\n",
      "        Number of stacked Vector Observation: 1\n",
      "        Vector Action space type: continuous\n",
      "        Vector Action space size (per agent): 4\n",
      "        Vector Action descriptions: , , , \n"
     ]
    }
   ],
   "source": [
    "from unityagents import UnityEnvironment\n",
    "import numpy as np\n",
    "\n",
    "# select this option to load version 1 (with a single agent) of the environment\n",
    "env = UnityEnvironment(file_name='/data/Reacher_One_Linux_NoVis/Reacher_One_Linux_NoVis.x86_64')\n",
    "\n",
    "# select this option to load version 2 (with 20 agents) of the environment\n",
    "# env = UnityEnvironment(file_name='/data/Reacher_Linux_NoVis/Reacher.x86_64')"
   ]
  },
  {
   "cell_type": "markdown",
   "metadata": {},
   "source": [
    "### 3. Get Enviromental Info\n",
    "Examine the State and Action Spaces\n",
    "In this environment, a double-jointed arm can move to target locations. A reward of +0.1 is provided for each step that the agent's hand is in the goal location. Thus, the goal of your agent is to maintain its position at the target location for as many time steps as possible.\n",
    "\n",
    "The observation space consists of 33 variables corresponding to position, rotation, velocity, and angular velocities of the arm. Each action is a vector with four numbers, corresponding to torque applicable to two joints. Every entry in the action vector must be a number between -1 and 1.\n",
    "\n",
    "Run the code cell below to print some information about the environment."
   ]
  },
  {
   "cell_type": "code",
   "execution_count": 4,
   "metadata": {},
   "outputs": [
    {
     "name": "stdout",
     "output_type": "stream",
     "text": [
      "Number of agents: 1\n",
      "Size of each action: 4\n",
      "There are 1 agents. Each observes a state with length: 33\n",
      "The state for the first agent looks like: [  0.00000000e+00  -4.00000000e+00   0.00000000e+00   1.00000000e+00\n",
      "  -0.00000000e+00  -0.00000000e+00  -4.37113883e-08   0.00000000e+00\n",
      "   0.00000000e+00   0.00000000e+00   0.00000000e+00   0.00000000e+00\n",
      "   0.00000000e+00   0.00000000e+00  -1.00000000e+01   0.00000000e+00\n",
      "   1.00000000e+00  -0.00000000e+00  -0.00000000e+00  -4.37113883e-08\n",
      "   0.00000000e+00   0.00000000e+00   0.00000000e+00   0.00000000e+00\n",
      "   0.00000000e+00   0.00000000e+00   5.75471878e+00  -1.00000000e+00\n",
      "   5.55726671e+00   0.00000000e+00   1.00000000e+00   0.00000000e+00\n",
      "  -1.68164849e-01]\n"
     ]
    }
   ],
   "source": [
    "# DDPG Agent\n",
    "from ddpg_agent import Agent\n",
    "\n",
    "# get the default brain\n",
    "brain_name = env.brain_names[0]\n",
    "brain = env.brains[brain_name]\n",
    "\n",
    "# reset the environment\n",
    "env_info = env.reset(train_mode=True)[brain_name]\n",
    "\n",
    "# number of agents\n",
    "num_agents = len(env_info.agents)\n",
    "print('Number of agents:', num_agents)\n",
    "\n",
    "# size of each action\n",
    "action_size = brain.vector_action_space_size\n",
    "print('Size of each action:', action_size)\n",
    "\n",
    "# examine the state space \n",
    "states = env_info.vector_observations\n",
    "state_size = states.shape[1]\n",
    "print('There are {} agents. Each observes a state with length: {}'.format(states.shape[0], state_size))\n",
    "print('The state for the first agent looks like:', states[0])\n",
    "\n",
    "agent = Agent(state_size, action_size, random_seed=2)"
   ]
  },
  {
   "cell_type": "markdown",
   "metadata": {},
   "source": [
    "### 4. Watch An Untrain Agent Play A Few Games"
   ]
  },
  {
   "cell_type": "code",
   "execution_count": null,
   "metadata": {},
   "outputs": [],
   "source": [
    "env_info = env.reset(train_mode=False)[brain_name]     # reset the environment    \n",
    "states = env_info.vector_observations                  # get the current state (for each agent)\n",
    "scores = np.zeros(num_agents)                          # initialize the score (for each agent)\n",
    "while True:\n",
    "    actions = np.random.randn(num_agents, action_size) # select an action (for each agent)\n",
    "    actions = np.clip(actions, -1, 1)                  # all actions between -1 and 1\n",
    "    env_info = env.step(actions)[brain_name]           # send all actions to tne environment\n",
    "    next_states = env_info.vector_observations         # get next state (for each agent)\n",
    "    rewards = env_info.rewards                         # get reward (for each agent)\n",
    "    dones = env_info.local_done                        # see if episode finished\n",
    "    scores += env_info.rewards                         # update the score (for each agent)\n",
    "    states = next_states                               # roll over states to next time step\n",
    "    if np.any(dones):                                  # exit loop if episode finished\n",
    "        break\n",
    "print('Total score (averaged over agents) this episode: {}'.format(np.mean(scores)))b"
   ]
  },
  {
   "cell_type": "markdown",
   "metadata": {},
   "source": [
    "### 5. Train Agent With Deep Deterministic Policy Gradient For Single Agent"
   ]
  },
  {
   "cell_type": "code",
   "execution_count": 5,
   "metadata": {},
   "outputs": [
    {
     "name": "stdout",
     "output_type": "stream",
     "text": [
      "Episode 5\tAverage Score: 0.27\tScore: 0.00\n",
      "Episode 10\tAverage Score: 0.41\tScore: 0.65\n",
      "Episode 15\tAverage Score: 0.48\tScore: 1.41\n",
      "Episode 20\tAverage Score: 0.52\tScore: 0.00\n",
      "Episode 25\tAverage Score: 0.61\tScore: 0.70\n",
      "Episode 30\tAverage Score: 0.61\tScore: 0.29\n",
      "Episode 35\tAverage Score: 0.63\tScore: 1.02\n",
      "Episode 40\tAverage Score: 0.67\tScore: 1.58\n",
      "Episode 45\tAverage Score: 0.73\tScore: 1.53\n",
      "Episode 50\tAverage Score: 0.78\tScore: 2.33\n",
      "Episode 55\tAverage Score: 0.83\tScore: 2.46\n",
      "Episode 60\tAverage Score: 0.85\tScore: 0.81\n",
      "Episode 65\tAverage Score: 0.86\tScore: 0.86\n",
      "Episode 70\tAverage Score: 0.89\tScore: 1.05\n",
      "Episode 75\tAverage Score: 0.93\tScore: 2.47\n",
      "Episode 80\tAverage Score: 0.97\tScore: 1.38\n",
      "Episode 85\tAverage Score: 1.01\tScore: 0.62\n",
      "Episode 90\tAverage Score: 1.05\tScore: 2.01\n",
      "Episode 95\tAverage Score: 1.12\tScore: 1.76\n",
      "Episode 100\tAverage Score: 1.15\tScore: 2.34\n",
      "Episode 100\tAverage Score: 1.15\n",
      "Episode 105\tAverage Score: 1.27\tScore: 2.93\n",
      "Episode 110\tAverage Score: 1.36\tScore: 2.22\n",
      "Episode 115\tAverage Score: 1.43\tScore: 1.56\n",
      "Episode 120\tAverage Score: 1.53\tScore: 3.24\n",
      "Episode 125\tAverage Score: 1.64\tScore: 3.16\n",
      "Episode 130\tAverage Score: 1.75\tScore: 2.09\n",
      "Episode 135\tAverage Score: 1.90\tScore: 5.44\n",
      "Episode 140\tAverage Score: 2.05\tScore: 6.56\n",
      "Episode 145\tAverage Score: 2.13\tScore: 2.03\n",
      "Episode 150\tAverage Score: 2.27\tScore: 3.46\n",
      "Episode 155\tAverage Score: 2.44\tScore: 3.14\n",
      "Episode 160\tAverage Score: 2.58\tScore: 2.81\n",
      "Episode 165\tAverage Score: 2.74\tScore: 4.65\n",
      "Episode 170\tAverage Score: 2.91\tScore: 6.97\n",
      "Episode 175\tAverage Score: 3.16\tScore: 5.69\n",
      "Episode 180\tAverage Score: 3.30\tScore: 1.80\n",
      "Episode 185\tAverage Score: 3.51\tScore: 7.73\n",
      "Episode 190\tAverage Score: 3.70\tScore: 6.28\n",
      "Episode 195\tAverage Score: 3.90\tScore: 3.89\n",
      "Episode 200\tAverage Score: 4.12\tScore: 6.85\n",
      "Episode 200\tAverage Score: 4.12\n",
      "Episode 205\tAverage Score: 4.27\tScore: 8.38\n",
      "Episode 210\tAverage Score: 4.41\tScore: 3.55\n",
      "Episode 215\tAverage Score: 4.64\tScore: 5.797\n",
      "Episode 220\tAverage Score: 4.83\tScore: 5.62\n",
      "Episode 225\tAverage Score: 5.03\tScore: 9.00\n",
      "Episode 230\tAverage Score: 5.31\tScore: 7.448\n",
      "Episode 235\tAverage Score: 5.40\tScore: 7.58\n",
      "Episode 240\tAverage Score: 5.54\tScore: 10.36\n",
      "Episode 245\tAverage Score: 6.04\tScore: 10.92\n",
      "Episode 250\tAverage Score: 6.40\tScore: 16.71\n",
      "Episode 255\tAverage Score: 6.86\tScore: 25.12\n",
      "Episode 260\tAverage Score: 7.25\tScore: 13.17\n",
      "Episode 265\tAverage Score: 7.60\tScore: 13.46\n",
      "Episode 270\tAverage Score: 8.12\tScore: 13.39\n",
      "Episode 275\tAverage Score: 8.56\tScore: 12.31\n",
      "Episode 280\tAverage Score: 9.00\tScore: 12.20\n",
      "Episode 285\tAverage Score: 9.62\tScore: 14.34\n",
      "Episode 290\tAverage Score: 10.34\tScore: 21.28\n",
      "Episode 295\tAverage Score: 10.72\tScore: 19.19\n",
      "Episode 300\tAverage Score: 11.24\tScore: 9.933\n",
      "Episode 300\tAverage Score: 11.24\n",
      "Episode 305\tAverage Score: 11.94\tScore: 27.27\n",
      "Episode 310\tAverage Score: 12.72\tScore: 21.59\n",
      "Episode 315\tAverage Score: 13.34\tScore: 19.15\n",
      "Episode 320\tAverage Score: 14.12\tScore: 18.71\n",
      "Episode 325\tAverage Score: 14.71\tScore: 15.31\n",
      "Episode 330\tAverage Score: 15.33\tScore: 27.39\n",
      "Episode 335\tAverage Score: 16.03\tScore: 26.84\n",
      "Episode 340\tAverage Score: 16.80\tScore: 15.50\n",
      "Episode 345\tAverage Score: 17.25\tScore: 22.49\n",
      "Episode 350\tAverage Score: 17.83\tScore: 24.47\n",
      "Episode 355\tAverage Score: 18.31\tScore: 18.04\n",
      "Episode 360\tAverage Score: 18.81\tScore: 20.97\n",
      "Episode 365\tAverage Score: 19.46\tScore: 24.39\n",
      "Episode 370\tAverage Score: 19.90\tScore: 26.22\n",
      "Episode 375\tAverage Score: 20.38\tScore: 23.55\n",
      "Episode 380\tAverage Score: 20.97\tScore: 26.99\n",
      "Episode 385\tAverage Score: 21.37\tScore: 29.15\n",
      "Episode 390\tAverage Score: 21.90\tScore: 29.32\n",
      "Episode 395\tAverage Score: 22.64\tScore: 28.53\n",
      "Episode 400\tAverage Score: 23.13\tScore: 31.20\n",
      "Episode 400\tAverage Score: 23.13\n",
      "Episode 405\tAverage Score: 23.63\tScore: 30.81\n",
      "Episode 410\tAverage Score: 24.05\tScore: 30.81\n",
      "Episode 415\tAverage Score: 24.51\tScore: 27.52\n",
      "Episode 420\tAverage Score: 24.87\tScore: 26.75\n",
      "Episode 425\tAverage Score: 25.33\tScore: 32.62\n",
      "Episode 430\tAverage Score: 25.89\tScore: 24.45\n",
      "Episode 435\tAverage Score: 26.29\tScore: 27.47\n",
      "Episode 440\tAverage Score: 26.74\tScore: 33.05\n",
      "Episode 445\tAverage Score: 27.05\tScore: 17.54\n",
      "Episode 450\tAverage Score: 27.55\tScore: 31.99\n",
      "Episode 455\tAverage Score: 27.94\tScore: 34.88\n",
      "Episode 460\tAverage Score: 28.44\tScore: 31.63\n",
      "Episode 465\tAverage Score: 28.87\tScore: 33.41\n",
      "Episode 470\tAverage Score: 29.34\tScore: 33.96\n",
      "Episode 475\tAverage Score: 29.79\tScore: 33.88\n",
      "Episode 480\tAverage Score: 30.25\tScore: 35.22\n",
      "Episode 485\tAverage Score: 30.69\tScore: 34.22\n",
      "Episode 490\tAverage Score: 30.88\tScore: 35.70\n",
      "Episode 495\tAverage Score: 31.16\tScore: 34.76\n",
      "Episode 500\tAverage Score: 31.48\tScore: 36.11\n",
      "Episode 500\tAverage Score: 31.48\n",
      "Episode 505\tAverage Score: 31.56\tScore: 38.39\n",
      "Episode 510\tAverage Score: 31.97\tScore: 36.63\n",
      "Episode 515\tAverage Score: 32.32\tScore: 36.10\n",
      "Episode 520\tAverage Score: 32.57\tScore: 34.10\n",
      "Episode 525\tAverage Score: 32.91\tScore: 37.26\n",
      "Episode 530\tAverage Score: 33.11\tScore: 33.58\n",
      "Episode 535\tAverage Score: 33.51\tScore: 38.80\n",
      "Episode 540\tAverage Score: 33.67\tScore: 37.90\n",
      "Episode 545\tAverage Score: 34.06\tScore: 34.72\n",
      "Episode 550\tAverage Score: 34.20\tScore: 35.29\n",
      "Episode 555\tAverage Score: 34.46\tScore: 38.20\n",
      "Episode 560\tAverage Score: 34.69\tScore: 36.71\n",
      "Episode 565\tAverage Score: 34.86\tScore: 31.87\n",
      "Episode 570\tAverage Score: 34.99\tScore: 33.68\n",
      "Episode 571\tAverage Score: 35.00\tScore: 35.53\n",
      "Environment solved in 571 episodes!\tAverage Score: 35.00\n"
     ]
    },
    {
     "data": {
      "image/png": "[encoded data removed]",
      "text/plain": [
       "<matplotlib.figure.Figure at 0x7f881c530a58>"
      ]
     },
     "metadata": {
      "needs_background": "light"
     },
     "output_type": "display_data"
    }
   ],
   "source": [
    "def ddpg(n_episodes=600, max_t=1000):\n",
    "    scores_deque = deque(maxlen=100)\n",
    "    scores = []\n",
    "    for i_episode in range(1, n_episodes +1):\n",
    "        env_info = env.reset(train_mode=True)[brain_name]     # reset the environment    \n",
    "        state = env_info.vector_observations   \n",
    "        agent.reset()\n",
    "        score = np.zeros(num_agents)\n",
    "        for t in range(max_t):\n",
    "            action = agent.act(state)\n",
    "            env_info = env.step(action)[brain_name]\n",
    "            next_state = env_info.vector_observations\n",
    "            reward = env_info.rewards\n",
    "            done =(env_info.local_done)\n",
    "            score += env_info.rewards\n",
    "           \n",
    "            agent.step(state, action, reward, next_state, done)\n",
    "            \n",
    "            state = next_state\n",
    "             #needs to be checked in multi case\n",
    "            if np.any(done):\n",
    "                break\n",
    "        scores_deque.append(score)\n",
    "        scores.append(score)\n",
    "        print('\\rEpisode {}\\tAverage Score: {:.2f}\\tScore: {:.2f}'.format(i_episode, np.mean(scores_deque), np.mean(score)), end=\"\")\n",
    "        if(i_episode % 5 == 0):\n",
    "            print('\\rEpisode {}\\tAverage Score: {:.2f}\\tScore: {:.2f}'.format(i_episode, np.mean(scores_deque), np.mean(score)))\n",
    "        if i_episode % 100 == 0:\n",
    "            torch.save(agent.actor_local.state_dict(), 'checkpoint_actor.pth')\n",
    "            torch.save(agent.critic_local.state_dict(), 'checkpoint_critic.pth')\n",
    "            print('\\rEpisode {}\\tAverage Score: {:.2f}'.format(i_episode, np.mean(scores_deque)))\n",
    "        if(np.mean(scores_deque) >= 35.0):\n",
    "            print('\\nEnvironment solved in {:d} episodes!\\tAverage Score: {:.2f}'.format(i_episode, np.mean(scores_deque)))\n",
    "            break\n",
    "    return scores\n",
    "\n",
    "scores = ddpg()\n",
    "\n",
    "fig = plt.figure()\n",
    "ax = fig.add_subplot(111)\n",
    "plt.plot(np.arange(1, len(scores)+1), scores)\n",
    "plt.ylabel('Score')\n",
    "plt.xlabel('Episode #')\n",
    "plt.show()"
   ]
  },
  {
   "cell_type": "markdown",
   "metadata": {},
   "source": [
    "### 6. Load Trained Agent And Watch Play It "
   ]
  },
  {
   "cell_type": "code",
   "execution_count": null,
   "metadata": {},
   "outputs": [],
   "source": [
    "agent.actor_local.load_state_dict(torch.load('checkpoint_actor.pth'))\n",
    "agent.critic_local.load_state_dict(torch.load('checkpoint_critic.pth'))\n",
    "\n",
    "env_info = env.reset(train_mode=False)[brain_name]      # reset the environment    \n",
    "states = env_info.vector_observations                  # get the current state (for each agent)\n",
    "scores = np.zeros(num_agents)                          # initialize the score (for each agent)\n",
    "while True:\n",
    "    actions = agent.act(states)                        # select an action (for each agent)\n",
    "    # actions = np.clip(actions, -1, 1)                  # all actions between -1 and 1\n",
    "    env_info = env.step(actions)[brain_name]           # send all actions to tne environment\n",
    "    next_states = env_info.vector_observations         # get next state (for each agent)\n",
    "    rewards = env_info.rewards                         # get reward (for each agent)\n",
    "    dones = env_info.local_done                        # see if episode finished\n",
    "    scores += env_info.rewards                         # update the score (for each agent)\n",
    "    states = next_states                               # roll over states to next time step\n",
    "    if np.any(dones):                                  # exit loop if episode finished\n",
    "        break\n",
    "print('Total score (averaged over agents) this episode: {}'.format(np.mean(scores)))"
   ]
  },
  {
   "cell_type": "code",
   "execution_count": null,
   "metadata": {},
   "outputs": [],
   "source": [
    "env.close()"
   ]
  }
 ],
 "metadata": {
  "kernelspec": {
   "display_name": "Python 3",
   "language": "python",
   "name": "python3"
  },
  "language_info": {
   "codemirror_mode": {
    "name": "ipython",
    "version": 3
   },
   "file_extension": ".py",
   "mimetype": "text/x-python",
   "name": "python",
   "nbconvert_exporter": "python",
   "pygments_lexer": "ipython3",
   "version": "3.6.12"
  }
 },
 "nbformat": 4,
 "nbformat_minor": 2
}
